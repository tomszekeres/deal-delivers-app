{
 "cells": [
  {
   "cell_type": "code",
   "execution_count": 1,
   "metadata": {},
   "outputs": [],
   "source": [
    "import os, json\n",
    "import pandas as pd"
   ]
  },
  {
   "cell_type": "code",
   "execution_count": 3,
   "metadata": {},
   "outputs": [
    {
     "name": "stdout",
     "output_type": "stream",
     "text": [
      "['04-14-lucas-kitchen-bakery.json', '07-09-esther-fairs.json', '04-19-lifeofatree.json', '04-18-knock-knock-by-smith-brock.json', '04-18-beeswax-its-a-wrap.json', '04-18-rye-books.json', '04-28-gosnells-beverages.json', '04-09-161-food-drink.json', '05-19-peckham-cellars.json', '06-03-dulwich-lyceum.json', '04-28-croxted-garden-centre.json', '04-29-grove-flora.json', '04-14-old-spike-roastery.json', '04-18-powder-cosmetics.json', '04-18-rock-my-bowl.json', '04-20-brockley-brewery.json', '04-20-gipsy-hill-brewery.json', '04-15-tomlinsons.json', '04-19-lazychef.json', '05-08-persepolis.json', '05-13-the-wine-parlour.json', '06-03-kim-lien-mini-market.json', '05-04-serious-tissues.json', '04-21-pastificio-mansi.json', '04-28-manuels-restaurant.json', '04-19-hernehillbooks.json', '05-21-miss-tapas.json', '05-04-perks-and-white.json', '04-18-brick-brewery.json', '04-19-tales.json', '05-01-in-fill-made-to-measure-desks.json', '06-03-cook-and-feast.json', '04-15-biff.json', '06-09-tola-peckham.json', '06-05-vegan-plates.json', '05-17-blockforest.json', '04-20-aneto-cafe.json', '05-01-walworth-garden.json', '04-28-the-nunhead-gardener.json', '06-09-canopy-plants.json', '04-15-ed.json', '04-19-spinach.json', '05-17-fruit-and-flowers.json', '03-26-dulwich-pantry.json', '04-29-hande.json', '05-21-ganapati-takeaway-kitchen.json', '06-05-ladoki’s-cupcakery.json', '04-23-mac-miller.json', '04-17-bona.json', '04-28-comfort-and-joy-caterers.json', '05-05-village-books-dulwich.json', '04-16-se-cakery.json', '04-17-chubby.json', '04-09-canopy-beer-co.json', '06-03-rosa-clara-designs.json', '04-30-the-dulwich-bakery.json', '04-15-mons-cheese.json', '04-17-clarkshaws.json', '04-18-joy-full.json', '04-15-lane-eight-coffee.json', '04-16-mr-bao.json', '04-14-hop-burns-black.json', '06-05-mr-simms-olde-sweet-shoppe.json', '04-28-london-kitchen-deliveries.json', '08-05-niangs-thai.json', '04-09-wild-lees.json', '04-21-brixton-brewery.json', '06-09-healthmatters-healthstore.json', '08-05-the-stovetop.json', '06-24-the-brockley-botanist.json', '05-04-bullfinch-brewery.json', '04-28-high-quality-food-london.json', '04-16-artusi.json', '05-28-asterley-bros.json', '04-14-moxons.json', '04-14-flock-herd.json', '05-10-general-store.json', '04-30-rogues-london.json', '04-15-romeo-jones.json', '06-05-hokolo.json', '04-21-winoship.json', '05-21-fat-boy-bbq.json', '04-15-just-williams-toys.json', '05-21-jerk-off-bbq.json', '05-04-elia-olive-oil-greek-products.json', '04-21-perkier-naturally.json', '04-14-oddonos.json', '04-15-ambras-kitchen.json', '04-19-jaadu.json', '04-19-nonna.json', '04-20-mothership-beer-ltd.json', '04-19-parks-edge.json', '04-20-agua-na-boca.json', '04-23-spiers-salads.json', '05-13-review-bookshop.json', '04-23-bottlecave.json', '06-03-kanpai-london-craft-sake.json', '07-07-south-london-ferments.json', '04-19-jones.json', '04-19-jarr.json', '04-20-cakehole.json', '04-19-umana.json', '04-15-cocotte-catering.json', '04-19-roses-fish-bar.json', '04-19-volcano.json', '05-01-mr-bao.json', '04-14-greens-village-toy-shop.json', '04-21-beetroot-beans.json', '05-17-chocolates-by-eloise.json', '06-09-hoop-joy.json', '04-21-au-ciel-ltd.json', '04-30-h-m-meats.json', '04-19-london-beer-lab.json', '05-03-forza-road.json', '05-13-maggie-bulman-masks.json', '04-21-the-butchery-ltd.json', '05-17-alkemi-store.json', '04-29-the-knackered-chef.json', '04-15-the-dulwich-trader.json', '05-14-the-beer-shop-london.json', '04-18-lilas.json', '04-17-CapoCaccia.json', '04-16-la-tartiflette.json', '04-28-toy-box-tots.json', '05-17-mont58-coffee.json', '04-16-minus12.json', '04-28-mr-francatelli.json', '05-05-wigwam-toy-shop.json', '04-14-goose-green-mutual-aid.json', '04-20-esph.json', '04-23-purple-forest-coffee.json', '04-19-intersport.json', '04-16-tiger-vines.json', '06-18-quick-print.json', '06-09-meet-bernard.json', '04-28-forest.json', '04-30-super-pizza.json', '04-28-forza-win.json', '05-17-petitou.json', '04-28-148-chinese.json', '04-15-hawkins-framing.json', '08-07-subship-by-dulwich-delivers.json']\n"
     ]
    }
   ],
   "source": [
    "path_to_json = '/'\n",
    "json_files = [pos_json for pos_json in os.listdir() if pos_json.endswith('.json')]\n",
    "print(json_files)  # for me this prints ['foo.json']"
   ]
  },
  {
   "cell_type": "code",
   "execution_count": null,
   "metadata": {},
   "outputs": [],
   "source": []
  }
 ],
 "metadata": {
  "kernelspec": {
   "display_name": "Python 3",
   "language": "python",
   "name": "python3"
  },
  "language_info": {
   "codemirror_mode": {
    "name": "ipython",
    "version": 3
   },
   "file_extension": ".py",
   "mimetype": "text/x-python",
   "name": "python",
   "nbconvert_exporter": "python",
   "pygments_lexer": "ipython3",
   "version": "3.7.3"
  }
 },
 "nbformat": 4,
 "nbformat_minor": 2
}
